{
 "cells": [
  {
   "cell_type": "code",
   "execution_count": 31,
   "metadata": {},
   "outputs": [],
   "source": [
    "import matplotlib.pyplot as plt\n",
    "import numpy as np\n",
    "import os\n",
    "import pandas as pd\n",
    "from sklearn.metrics import confusion_matrix, classification_report, ConfusionMatrixDisplay"
   ]
  },
  {
   "cell_type": "code",
   "execution_count": 120,
   "metadata": {},
   "outputs": [],
   "source": [
    "class Attendance:\n",
    "    \"\"\"\n",
    "    Extracts data given a directory containing reference and transient datasets as .txt files.\n",
    "    \n",
    "    :param string directory:\n",
    "        The directory in which all of the recorded datasets are stored.\n",
    "        Default is \"../streams\".\n",
    "    :param string reference_file:\n",
    "        The name of the file intended to be used as the reference dataset.\n",
    "        Default is \"podium.txt\".\n",
    "    \"\"\"\n",
    "    def __init__(self, directory=\"streams\", reference_file=\"podium.txt\"):\n",
    "        self.directory = directory\n",
    "        self.reference_file = reference_file\n",
    "        self.reference_data = self.dictify_data(self.reference_file)\n",
    "        self.operational_data = self.dictify_op_data()\n",
    "        self.location_scores = self.calc_loc_scores()\n",
    "        self.matrix_data = self.gen_matrix_data() # Stores y_true and y_pred\n",
    "        self.con_matrix = confusion_matrix(self.matrix_data[0], self.matrix_data[1])\n",
    "        self.class_report = classification_report(self.matrix_data[0], self.matrix_data[1],\n",
    "                                                  target_names=['Outside', 'Inside'])\n",
    "        \n",
    "\n",
    "    def dictify_data(self, file):\n",
    "        \"\"\"\n",
    "        Called by constructor to create reference data attribute.\n",
    "        Pandas Documentation: https://pandas.pydata.org/pandas-docs/stable/reference/index.html\n",
    "        \n",
    "        :param string file:\n",
    "            The name of the file that contains data to be cleaned.\n",
    "            Must be inside of the object's directory\n",
    "            e.g. \"podium.txt\" or \"first_row.txt\".\n",
    "\n",
    "        :return:\n",
    "            A dictionary containing MAC addresses as keys and their respective received signal \n",
    "            strength indicators as values. {\"a1:b2:c3:d4:e5:f6\": 0, ... \"f6:e5:d4:c3:b2:a1\": -95}\n",
    "        :rtype: dict\n",
    "        \"\"\"\n",
    "            \n",
    "        # use the object's directory attribute, and function parameter for file\n",
    "        file_path = f\"{self.directory}/{file}\"\n",
    "        # convert the text data into a dataframe, while preserving first row\n",
    "        df = pd.read_csv(file_path, header=None)\n",
    "        df = df.iloc[:, 3:-1] # drop device id, latitude, longitude & date columns\n",
    "        df = pd.concat([ # enter hacky list comprehension pandas concatenation\n",
    "            df.iloc[:, col:col+2].rename(columns={ # index mac address and rssi column pairs\n",
    "                col+3: \"mac_address\", # index for the current mac address column\n",
    "                col+4: \"average_rssi\" # index for the current rssi column\n",
    "            }) # the column indexes from the result previous iloc, starting at 3,\n",
    "            # the columns could be aligned with some transposes and resetting the index instead\n",
    "            for col in range(0, len(df.columns), 2) # perform concatenation for every pair\n",
    "        ], ignore_index=True)\n",
    "\n",
    "        df.replace(0, -95, inplace=True) # replace all zero values with the -95 sensitivity\n",
    "        # group by mac address and calculate the average rssi for each unique mac address\n",
    "        df = df.groupby(\"mac_address\", as_index=False)[\"average_rssi\"].mean()\n",
    "        \n",
    "        try: # try except since attribute will not exist if reference data hasn't been dictified\n",
    "            if self.reference_data: # only enters block for operational data\n",
    "                # select only indexes where mac address is in reference dictionary keys\n",
    "                df = df[df[\"mac_address\"].isin(self.reference_data)]\n",
    "                if len(df.index) != len(self.reference_data): # enters block if any indexes\n",
    "                    indexes = []                              # were missing from dataframe\n",
    "                    for mac in self.reference_data: # check which mac address is missing\n",
    "                        if not df[\"mac_address\"].str.contains(mac).any(): # if missing\n",
    "                            indexes.append([mac, -95]) # add corresponding mac and sensitivity\n",
    "                    # append newly created dataframe from missing indexes to complete it\n",
    "                    df = df.append(pd.DataFrame(indexes, columns=[\"mac_address\", \"average_rssi\"]))\n",
    "        except:\n",
    "            pass # no handling needed\n",
    "        \n",
    "        # sort by highest average rssi\n",
    "        df.sort_values(by=\"average_rssi\", ascending=False, inplace=True, ignore_index=True)\n",
    "        df = df.head(20) # select the top 20 indexes after sorted\n",
    "        \n",
    "        # set the index column to the mac address and select the average rssi column,\n",
    "        # allowing to_dict() to return in {mac_address: average_rssi} format\n",
    "        dictified = df.set_index(\"mac_address\")[\"average_rssi\"].to_dict()\n",
    "        \n",
    "        return dictified # return completed dictionary\n",
    "\n",
    "\n",
    "    def dictify_op_data(self):\n",
    "        \"\"\"\n",
    "        Called by constructor to create the operational data attribute.\n",
    "        OS Documentation: https://docs.python.org/3/library/os.html\n",
    "        Pandas Documentation: https://pandas.pydata.org/pandas-docs/stable/reference/index.html\n",
    "        \n",
    "        :return:\n",
    "            A 2-D dictionary containing file names as keys with dictionaries containing \n",
    "            MAC addresses and their respective received signal strength indicators as values. \n",
    "            {\"file_1.txt\": {\"a1:b2:c3:d4:e5:f6\": 0,  ... \"f6:e5:d4:c3:b2:a1\": -95}, ...\n",
    "             \"file_n.txt\": {\"b2:c3:d4:e5:f6:a1\": -45,  ... \"c3:d4:e5:f6:a1:b2\": -90}}\n",
    "        :rtype: dict\n",
    "        \"\"\"\n",
    "        \n",
    "        dictified = {}\n",
    "        \n",
    "        for root, subdirs, files in os.walk(self.directory): # walk through all subdirs and files\n",
    "            for file in files: # apply to all files found in the walkthrough\n",
    "                # select only txt files and not the specified reference file.\n",
    "                if file.endswith(\".txt\") and file != self.reference_file: \n",
    "                    file_path = os.path.join(root, file) # full file path including the root\n",
    "                    # obtain relative path by removing root directory\n",
    "                    rel_path = os.path.relpath(file_path, self.directory)\n",
    "                    # convert the text data into a dataframe, while preserving first row\n",
    "                    df = pd.read_csv(file_path, header=None)\n",
    "                    # create new dictionary key value pair matching format\n",
    "                    # {rel_path: {mac_address: average_rssi}}\n",
    "                    dictified[rel_path] = self.dictify_data(rel_path)\n",
    "                \n",
    "        return dictified # return completed dictionary\n",
    "\n",
    "\n",
    "    def calc_loc_scores(self):\n",
    "        \"\"\"\n",
    "        Called by constructor to create the location scores attribute.\n",
    "        Calculates the Euclidian Distance between reference and operational data.\n",
    "        NumPy Documentation: https://numpy.org/doc/stable/reference/index.html\n",
    "        \n",
    "        :return:\n",
    "            A dictionary containing file names as keys and their respective calculated\n",
    "            euclidian distances as values. {\"file_1.txt\": 50.125, ... \"file_n\": 93.725}\n",
    "        :rtype: dict\n",
    "        \"\"\"\n",
    "        \n",
    "        location_scores = {}\n",
    "\n",
    "        # create numpy array with list comprehension, sorting keys, then adding values to list\n",
    "        ref = np.array([self.reference_data[mac] for mac in sorted(self.reference_data)])\n",
    "        for file, ms_pair in self.operational_data.items(): # iterate through op data dictionary\n",
    "            # create numpy array with list comp, for n'th operational dataset to compare with ref\n",
    "            op = np.array([ms_pair[mac] for mac in sorted(ms_pair)])\n",
    "            # calculate euclidian distance with numpy's euclidian norm method\n",
    "            euclidist = np.linalg.norm(ref - op)\n",
    "            # add entry to return dictionary in format {file_name: euclidian_distance}\n",
    "            location_scores[file] = euclidist\n",
    "        \n",
    "        return location_scores # return completed dictionary\n",
    "    \n",
    "    \n",
    "    def gen_matrix_data(self):\n",
    "        \"\"\"\n",
    "        Use the file prefix for each file in location_scores to determine whether data is inside or\n",
    "        outside room. Make a prediction based on whether average RSSI is less or greater than \n",
    "        threshold. \n",
    "        \n",
    "        :return: \n",
    "            A tuple containing 2 lists, y_true and y_pred.\n",
    "            \n",
    "        :rtype: tuple\n",
    "        \"\"\"\n",
    "        y_true = []\n",
    "        y_pred = []\n",
    "        threshold = 55.0   # The average RSSI threshold used to decide if in or out of room\n",
    "        \n",
    "        for file in self.location_scores:\n",
    "            # Check whether the file prefix indicates inside or outside the room. Append 1 to y_true\n",
    "            # if inside, 0 if outside\n",
    "            if file[0] == 'i':    \n",
    "                y_true.append(1)  \n",
    "            else:                 \n",
    "                y_true.append(0) \n",
    "            # Compare the average RSSI of the file to the threshold. Append 1 to y_pred if < threshold \n",
    "            # indicating inside, and 0 if greater indicating outside. \n",
    "            if self.location_scores[file] < threshold:  \n",
    "                y_pred.append(1)\n",
    "            else:\n",
    "                y_pred.append(0)\n",
    "        return y_true, y_pred \n",
    "        \n",
    "        \n",
    "    def disp_con_matrix(self):\n",
    "        labels = [\"Outside\", \"Inside\"]\n",
    "        disp = ConfusionMatrixDisplay(confusion_matrix=self.con_matrix, display_labels=labels)\n",
    "        disp.plot(cmap='Blues') \n",
    "        "
   ]
  },
  {
   "cell_type": "code",
   "execution_count": 138,
   "metadata": {},
   "outputs": [],
   "source": [
    "att = Attendance(\"../awshene/attendance/input\", \"instructor.txt\")"
   ]
  },
  {
   "cell_type": "code",
   "execution_count": 139,
   "metadata": {},
   "outputs": [
    {
     "data": {
      "text/plain": [
       "{'inside/second_row.txt': 59.7872608586255,\n",
       " 'inside/third_row_right.txt': 39.023606997741595,\n",
       " 'inside/fourth_row_right.txt': 38.11172097482883,\n",
       " 'inside/fourth_row_left.txt': 47.18995981695632,\n",
       " 'inside/room_center.txt': 39.533510426271945,\n",
       " 'inside/third_row_left.txt': 57.234478377727704,\n",
       " 'inside/first_row_right.txt': 32.92776681214981,\n",
       " 'inside/first_row_left.txt': 41.49335483229382,\n",
       " 'outside/at_the_door.txt': 19.935480272680216,\n",
       " 'outside/classroom_2044.txt': 105.12219876644109,\n",
       " 'outside/cs_dept.txt': 99.72432634948848,\n",
       " 'outside/classroom_2003.txt': 120.61572546305005,\n",
       " 'outside/study_room.txt': 108.33825361907877,\n",
       " 'outside/red_chairs.txt': 53.84855970187953}"
      ]
     },
     "execution_count": 139,
     "metadata": {},
     "output_type": "execute_result"
    }
   ],
   "source": [
    "att.location_scores"
   ]
  },
  {
   "cell_type": "code",
   "execution_count": 140,
   "metadata": {},
   "outputs": [
    {
     "data": {
      "text/plain": [
       "([1, 1, 1, 1, 1, 1, 1, 1, 0, 0, 0, 0, 0, 0],\n",
       " [0, 1, 1, 1, 1, 0, 1, 1, 1, 0, 0, 0, 0, 1])"
      ]
     },
     "execution_count": 140,
     "metadata": {},
     "output_type": "execute_result"
    }
   ],
   "source": [
    "att.matrix_data"
   ]
  },
  {
   "cell_type": "code",
   "execution_count": 141,
   "metadata": {},
   "outputs": [
    {
     "data": {
      "text/plain": [
       "array([[4, 2],\n",
       "       [2, 6]])"
      ]
     },
     "execution_count": 141,
     "metadata": {},
     "output_type": "execute_result"
    }
   ],
   "source": [
    "att.con_matrix"
   ]
  },
  {
   "cell_type": "code",
   "execution_count": 142,
   "metadata": {},
   "outputs": [
    {
     "data": {
      "image/png": "[encoded data removed]",
      "text/plain": [
       "<Figure size 432x288 with 2 Axes>"
      ]
     },
     "metadata": {
      "needs_background": "light"
     },
     "output_type": "display_data"
    }
   ],
   "source": [
    "att.disp_con_matrix()"
   ]
  },
  {
   "cell_type": "code",
   "execution_count": 143,
   "metadata": {},
   "outputs": [
    {
     "data": {
      "text/plain": [
       "'              precision    recall  f1-score   support\\n\\n     Outside       0.67      0.67      0.67         6\\n      Inside       0.75      0.75      0.75         8\\n\\n    accuracy                           0.71        14\\n   macro avg       0.71      0.71      0.71        14\\nweighted avg       0.71      0.71      0.71        14\\n'"
      ]
     },
     "execution_count": 143,
     "metadata": {},
     "output_type": "execute_result"
    }
   ],
   "source": [
    "att.class_report # Printing weird for some reason "
   ]
  }
 ],
 "metadata": {
  "kernelspec": {
   "display_name": "Python 3",
   "language": "python",
   "name": "python3"
  },
  "language_info": {
   "codemirror_mode": {
    "name": "ipython",
    "version": 3
   },
   "file_extension": ".py",
   "mimetype": "text/x-python",
   "name": "python",
   "nbconvert_exporter": "python",
   "pygments_lexer": "ipython3",
   "version": "3.6.9"
  }
 },
 "nbformat": 4,
 "nbformat_minor": 4
}
